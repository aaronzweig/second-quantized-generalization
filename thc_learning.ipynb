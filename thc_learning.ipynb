{
 "cells": [
  {
   "cell_type": "code",
   "execution_count": 1,
   "metadata": {},
   "outputs": [
    {
     "name": "stderr",
     "output_type": "stream",
     "text": [
      "Numpy 1.16 has memory leak bug  https://github.com/numpy/numpy/issues/13808\n",
      "It is recommended to downgrade to numpy 1.15 or older\n"
     ]
    }
   ],
   "source": [
    "import numpy as np\n",
    "import torch\n",
    "import torch.nn as nn\n",
    "import torch.nn.functional as F\n",
    "\n",
    "import networkx as nx\n",
    "from scipy import sparse\n",
    "\n",
    "import torch_geometric.transforms as T\n",
    "from torch_geometric.nn import GCNConv, GATConv, GINConv, global_max_pool, GlobalAttention, GatedGraphConv\n",
    "from torch_geometric.data import Data, DataLoader\n",
    "from torch_geometric.utils import softmax\n",
    "from torch_geometric.utils.convert import from_scipy_sparse_matrix\n",
    "from torch_geometric.data import Data, DataLoader\n",
    "\n",
    "\n",
    "from pyscf import gto, scf, tools, ao2mo\n",
    "\n",
    "\n",
    "import train\n",
    "from graph_model import SecondNet, SimpleNet, THCNet\n",
    "from preprocess import build_qm7, build_thc_graph\n",
    "from train import train, test\n",
    "from thc import THCContainer\n",
    "from utils import khatri_rao"
   ]
  },
  {
   "cell_type": "code",
   "execution_count": 2,
   "metadata": {},
   "outputs": [],
   "source": [
    "basis = 'sto-3g'\n",
    "# basis = 'cc-pvdz'\n",
    "mols = build_qm7(basis)\n",
    "mols = mols[0:2]"
   ]
  },
  {
   "cell_type": "code",
   "execution_count": 3,
   "metadata": {},
   "outputs": [
    {
     "name": "stderr",
     "output_type": "stream",
     "text": [
      "/anaconda3/envs/prime/lib/python3.7/site-packages/pyscf/scf/chkfile.py:31: H5pyDeprecationWarning: The default file mode will change to 'r' (read-only) in h5py 3.0. To suppress this warning, pass the mode you need to h5py.File(), or set the global default h5.get_config().default_file_mode, or set the environment variable H5PY_DEFAULT_READONLY=1. Available modes are: 'r', 'r+', 'w', 'w-'/'x', 'a'. See the docs for details.\n",
      "  with h5py.File(chkfile) as fh5:\n",
      "/anaconda3/envs/prime/lib/python3.7/site-packages/pyscf/lib/misc.py:874: H5pyDeprecationWarning: The default file mode will change to 'r' (read-only) in h5py 3.0. To suppress this warning, pass the mode you need to h5py.File(), or set the global default h5.get_config().default_file_mode, or set the environment variable H5PY_DEFAULT_READONLY=1. Available modes are: 'r', 'r+', 'w', 'w-'/'x', 'a'. See the docs for details.\n",
      "  h5py.File.__init__(self, filename, *args, **kwargs)\n"
     ]
    },
    {
     "name": "stdout",
     "output_type": "stream",
     "text": [
      "rho L2: 1.5681044424292648e-15\n",
      "T_ao L_infinity: 5.551372972423252e-10\n",
      "T_mo L_infinity: 6.640807946947658e-10\n",
      "T_mo L_2: 3.5671881623186717e-09\n",
      "rho L2: 5.210117043563397e-15\n",
      "T_ao L_infinity: 4.6908578511533705e-06\n",
      "T_mo L_infinity: 6.615021421296774e-06\n",
      "T_mo L_2: 1.532191554624319e-05\n"
     ]
    }
   ],
   "source": [
    "kwargs = {'grid_points_per_atom': 300, 'epsilon_qr': 1e-15, 'epsilon_inv': 1e-15, 'verbose': True}\n",
    "mol_data = [THCContainer(mol, kwargs) for mol in mols]"
   ]
  },
  {
   "cell_type": "code",
   "execution_count": 4,
   "metadata": {},
   "outputs": [
    {
     "name": "stdout",
     "output_type": "stream",
     "text": [
      "E_J loss 5.2466440453153826e-11\n",
      "E loss 3.60994965108241e-11\n",
      "MP2_J loss 1.0409315076564951e-10\n",
      "MP2 loss 6.313343597907917e-11\n",
      "(5, 4)\n",
      "\n",
      "E_J loss 6.14238886117156e-08\n",
      "E loss 4.0988257037528114e-08\n",
      "MP2_J loss 1.2210252095523622e-07\n",
      "MP2 loss 7.614180207171639e-08\n",
      "(9, 7)\n",
      "\n"
     ]
    }
   ],
   "source": [
    "dataset = []\n",
    "for con in mol_data:\n",
    "    \n",
    "    print(\"E_J loss\", np.linalg.norm(con.E[0] - con.E_THC[0]))\n",
    "    print(\"E loss\", np.linalg.norm(con.E[2] - con.E_THC[2]))\n",
    "    print(\"MP2_J loss\", np.linalg.norm(con.MP2[0] - con.MP2_THC[0]))\n",
    "    print(\"MP2 loss\", np.linalg.norm(con.MP2[2] - con.MP2_THC[2]))\n",
    "    print(con.E[2].shape)\n",
    "    print(\"\")\n",
    "    \n",
    "    data = build_thc_graph(con)\n",
    "#     data = Data(X = torch.from_numpy(X), Z = torch.from_numpy(Z),\n",
    "#                 U = torch.from_numpy(U), coords = torch.from_numpy(coords),\n",
    "#                 T_ao = torch.from_numpy(T_ao), T_mo = torch.from_numpy(T_mo),\n",
    "#                mol = mol)\n",
    "    \n",
    "    dataset.append(data)"
   ]
  },
  {
   "cell_type": "code",
   "execution_count": 5,
   "metadata": {},
   "outputs": [
    {
     "name": "stdout",
     "output_type": "stream",
     "text": [
      "tensor([-1.1036e+01,  2.0000e+00,  6.4574e-01,  0.0000e+00,  8.6842e-06,\n",
      "         1.3423e-16, -3.6645e-05,  0.0000e+00,  0.0000e+00,  0.0000e+00,\n",
      "         1.0000e+00,  0.0000e+00,  0.0000e+00,  0.0000e+00,  0.0000e+00],\n",
      "       dtype=torch.float64)\n",
      "tensor([-1.1036e+01,  2.0000e+00,  0.0000e+00,  0.0000e+00,  0.0000e+00,\n",
      "         0.0000e+00,  0.0000e+00,  0.0000e+00,  0.0000e+00,  0.0000e+00,\n",
      "         0.0000e+00,  1.0000e+00,  0.0000e+00, -5.2673e-03,  0.0000e+00],\n",
      "       dtype=torch.float64)\n",
      "tensor([ 0.0000,  0.0000,  0.0000,  0.0000,  0.0000,  0.0000, -0.0071,  0.0000],\n",
      "       dtype=torch.float64)\n"
     ]
    }
   ],
   "source": [
    "u, v = data.edge_index[:,3000]\n",
    "u, v = u.item(), v.item()\n",
    "print(data.x[u])\n",
    "print(data.x[v])\n",
    "print(data.edge_attr[3000])"
   ]
  },
  {
   "cell_type": "code",
   "execution_count": 6,
   "metadata": {},
   "outputs": [
    {
     "name": "stdout",
     "output_type": "stream",
     "text": [
      "tensor([0.9923, 2.0000, 0.0000, 1.0000, 4.6944, 1.0000, 0.3954, 0.1283],\n",
      "       dtype=torch.float64)\n",
      "tensor([-1.9682e+01, -1.3914e-15, -2.1473e-02,  0.0000e+00,  0.0000e+00,\n",
      "         0.0000e+00, -2.9366e-01, -1.0535e-01], dtype=torch.float64)\n",
      "tensor([-1.5926e-02,  3.0763e-03, -7.4403e-05,  2.8840e-03,  1.5287e+00,\n",
      "         6.6332e-03,  5.9229e-03,  2.3435e-04], dtype=torch.float64)\n",
      "\n",
      "tensor([1.2833, 2.0000, 0.0000, 1.0000, 6.5856, 1.0000, 0.3984, 0.1557],\n",
      "       dtype=torch.float64)\n",
      "tensor([-2.2032e+01, -1.7099e-15, -2.2569e-02,  0.0000e+00,  0.0000e+00,\n",
      "         0.0000e+00, -4.2863e-01, -1.7077e-01], dtype=torch.float64)\n",
      "tensor([-5.8321e-03,  7.3435e-04, -1.7370e-05,  6.6907e-04,  2.1973e+00,\n",
      "         2.6751e-03,  2.0843e-03,  6.2692e-05], dtype=torch.float64)\n",
      "\n"
     ]
    }
   ],
   "source": [
    "for data in dataset:\n",
    "    edge_attr = data.edge_attr\n",
    "    print(torch.max(edge_attr, dim = 0)[0])\n",
    "    print(torch.min(edge_attr, dim = 0)[0])\n",
    "    print(torch.mean(edge_attr, dim = 0))\n",
    "    \n",
    "    print()"
   ]
  },
  {
   "cell_type": "code",
   "execution_count": null,
   "metadata": {},
   "outputs": [],
   "source": [
    "import torch.optim as optim\n",
    "\n",
    "def train(model, loader, lr = 0.003, iterations = 10, verbose = False, lamb = 1.0, device = torch.device(\"cpu\")):\n",
    "    model.train()\n",
    "    optimizer = optim.Adam(model.parameters(), lr=lr)\n",
    "\n",
    "    losses = []\n",
    "    for i in range(iterations):\n",
    "        batch_losses = []\n",
    "        for data in loader:\n",
    "                        \n",
    "            E_THC = data.con.E_THC[0] # first term means the J term\n",
    "            E_THC = torch.from_numpy(E_THC)\n",
    "            E_hat = model(data)[data.E_mask][:,0].reshape(E_THC.shape)\n",
    "            E_pred = E_THC + lamb * E_hat\n",
    "            \n",
    "            E_true = data.con.E[0] # first term means the J term\n",
    "            E_true = torch.from_numpy(E_true)\n",
    "            \n",
    "            loss = torch.norm(E_true - E_pred) / torch.norm(E_true) #Scale regularization\n",
    "                    \n",
    "            optimizer.zero_grad()\n",
    "            loss.backward()\n",
    "            \n",
    "            \n",
    "            optimizer.step()\n",
    "                        \n",
    "            batch_losses.append(loss.item())\n",
    "\n",
    "        batch_loss = np.mean(np.array(batch_losses))\n",
    "        losses.append(batch_loss)\n",
    "        if verbose:\n",
    "            print(\"timestep: {}, loss: {:e}\".format(i, batch_loss))\n",
    "    \n",
    "    model.eval()\n",
    "    return losses"
   ]
  },
  {
   "cell_type": "code",
   "execution_count": null,
   "metadata": {},
   "outputs": [],
   "source": [
    "vertex_dim = dataset[0].x.shape[1]\n",
    "edge_dim = dataset[0].edge_attr.shape[1]\n",
    "hidden_dim = 20\n",
    "model = THCNet(vertex_dim, edge_dim, hidden_dim).double()\n",
    "\n",
    "lr = 0.001\n",
    "verbose = True\n",
    "lamb = 1e-1\n",
    "\n",
    "losses = train(model, dataset, iterations = 200, lr = lr, verbose = verbose, lamb = lamb)"
   ]
  },
  {
   "cell_type": "code",
   "execution_count": null,
   "metadata": {},
   "outputs": [],
   "source": []
  }
 ],
 "metadata": {
  "kernelspec": {
   "display_name": "Python [conda env:prime] *",
   "language": "python",
   "name": "conda-env-prime-py"
  },
  "language_info": {
   "codemirror_mode": {
    "name": "ipython",
    "version": 3
   },
   "file_extension": ".py",
   "mimetype": "text/x-python",
   "name": "python",
   "nbconvert_exporter": "python",
   "pygments_lexer": "ipython3",
   "version": "3.7.7"
  }
 },
 "nbformat": 4,
 "nbformat_minor": 4
}
