{
 "cells": [
  {
   "cell_type": "code",
   "execution_count": 1,
   "metadata": {},
   "outputs": [
    {
     "name": "stderr",
     "output_type": "stream",
     "text": [
      "Numpy 1.16 has memory leak bug  https://github.com/numpy/numpy/issues/13808\n",
      "It is recommended to downgrade to numpy 1.15 or older\n"
     ]
    }
   ],
   "source": [
    "import numpy as np\n",
    "import torch\n",
    "import torch.nn as nn\n",
    "import torch.nn.functional as F\n",
    "\n",
    "import networkx as nx\n",
    "from scipy import sparse\n",
    "\n",
    "import torch_geometric.transforms as T\n",
    "from torch_geometric.nn import GCNConv, GATConv, GINConv, global_max_pool, GlobalAttention, GatedGraphConv\n",
    "from torch_geometric.data import Data, DataLoader\n",
    "from torch_geometric.utils import softmax\n",
    "from torch_geometric.utils.convert import from_scipy_sparse_matrix\n",
    "from torch_geometric.data import Data, DataLoader\n",
    "\n",
    "\n",
    "from pyscf import gto, scf, tools, ao2mo\n",
    "\n",
    "import pickle\n",
    "import train\n",
    "from graph_model import SecondNet, SimpleNet, THCNet\n",
    "from preprocess import build_qm7, build_thc_graph\n",
    "from train import train, test\n",
    "from thc import THCContainer\n",
    "from utils import khatri_rao"
   ]
  },
  {
   "cell_type": "code",
   "execution_count": 2,
   "metadata": {},
   "outputs": [],
   "source": [
    "basis = 'sto-3g'\n",
    "# basis = 'cc-pvdz'\n",
    "mols = build_qm7(basis)\n",
    "mols = mols[0:1]"
   ]
  },
  {
   "cell_type": "code",
   "execution_count": 3,
   "metadata": {},
   "outputs": [
    {
     "name": "stdout",
     "output_type": "stream",
     "text": [
      "rho L2: 1.1927619278133603e-15\n",
      "T_ao L_infinity: 4.542049514277835e-10\n",
      "T_mo L_infinity: 6.327388613058815e-10\n",
      "T_mo L_2: 2.694300259042288e-09\n"
     ]
    },
    {
     "name": "stderr",
     "output_type": "stream",
     "text": [
      "/anaconda3/envs/prime/lib/python3.7/site-packages/pyscf/scf/chkfile.py:31: H5pyDeprecationWarning: The default file mode will change to 'r' (read-only) in h5py 3.0. To suppress this warning, pass the mode you need to h5py.File(), or set the global default h5.get_config().default_file_mode, or set the environment variable H5PY_DEFAULT_READONLY=1. Available modes are: 'r', 'r+', 'w', 'w-'/'x', 'a'. See the docs for details.\n",
      "  with h5py.File(chkfile) as fh5:\n",
      "/anaconda3/envs/prime/lib/python3.7/site-packages/pyscf/lib/misc.py:874: H5pyDeprecationWarning: The default file mode will change to 'r' (read-only) in h5py 3.0. To suppress this warning, pass the mode you need to h5py.File(), or set the global default h5.get_config().default_file_mode, or set the environment variable H5PY_DEFAULT_READONLY=1. Available modes are: 'r', 'r+', 'w', 'w-'/'x', 'a'. See the docs for details.\n",
      "  h5py.File.__init__(self, filename, *args, **kwargs)\n"
     ]
    }
   ],
   "source": [
    "kwargs = {'grid_points_per_atom': 300, 'epsilon_qr': 1e-15, 'epsilon_inv': 1e-15, 'verbose': True}\n",
    "mol_data = [THCContainer(mol, kwargs) for mol in mols]"
   ]
  },
  {
   "cell_type": "code",
   "execution_count": 4,
   "metadata": {},
   "outputs": [
    {
     "name": "stdout",
     "output_type": "stream",
     "text": [
      "E_J loss 5.848972099108659e-12\n",
      "E loss 3.8623613679567095e-12\n",
      "MP2_J loss 4.7525455793007154e-12\n",
      "MP2 loss 3.7658348661651075e-12\n",
      "(5, 4)\n",
      "\n",
      "Data(E_mask=[1485], con=<thc.THCContainer object at 0x1398da890>, edge_attr=[156033, 8], edge_index=[2, 156033], x=[1485, 15])\n",
      "<thc.THCContainer object at 0x1398da890>\n"
     ]
    }
   ],
   "source": [
    "dataset = []\n",
    "for con in mol_data:\n",
    "    \n",
    "    print(\"E_J loss\", np.linalg.norm(con.E[0] - con.E_THC[0]))\n",
    "    print(\"E loss\", np.linalg.norm(con.E[2] - con.E_THC[2]))\n",
    "    print(\"MP2_J loss\", np.linalg.norm(con.MP2[0] - con.MP2_THC[0]))\n",
    "    print(\"MP2 loss\", np.linalg.norm(con.MP2[2] - con.MP2_THC[2]))\n",
    "    print(con.E[2].shape)\n",
    "    print(\"\")\n",
    "    \n",
    "    data = build_thc_graph(con)\n",
    "#     data = Data(X = torch.from_numpy(X), Z = torch.from_numpy(Z),\n",
    "#                 U = torch.from_numpy(U), coords = torch.from_numpy(coords),\n",
    "#                 T_ao = torch.from_numpy(T_ao), T_mo = torch.from_numpy(T_mo),\n",
    "#                mol = mol)\n",
    "    \n",
    "    filename = \"hello\"\n",
    "    with open(filename, 'wb') as f:\n",
    "        print(data)\n",
    "        print(data.con)\n",
    "        pickle.dump(data, f)\n",
    "    \n",
    "    dataset.append(data)"
   ]
  },
  {
   "cell_type": "code",
   "execution_count": null,
   "metadata": {},
   "outputs": [],
   "source": [
    "u, v = data.edge_index[:,3000]\n",
    "u, v = u.item(), v.item()\n",
    "print(data.x[u])\n",
    "print(data.x[v])\n",
    "print(data.edge_attr[3000])"
   ]
  },
  {
   "cell_type": "code",
   "execution_count": null,
   "metadata": {},
   "outputs": [],
   "source": [
    "for data in dataset:\n",
    "    edge_attr = data.edge_attr\n",
    "    print(torch.max(edge_attr, dim = 0)[0])\n",
    "    print(torch.min(edge_attr, dim = 0)[0])\n",
    "    print(torch.mean(edge_attr, dim = 0))\n",
    "    \n",
    "    print()"
   ]
  },
  {
   "cell_type": "code",
   "execution_count": null,
   "metadata": {},
   "outputs": [],
   "source": [
    "import torch.optim as optim\n",
    "\n",
    "def train(model, loader, lr = 0.003, iterations = 10, verbose = False, lamb = 1.0, device = torch.device(\"cpu\")):\n",
    "    model.train()\n",
    "    optimizer = optim.Adam(model.parameters(), lr=lr)\n",
    "\n",
    "    losses = []\n",
    "    for i in range(iterations):\n",
    "        batch_losses = []\n",
    "        for data in loader:\n",
    "                        \n",
    "            E_THC = data.con.E_THC[0] # first term means the J term\n",
    "            E_THC = torch.from_numpy(E_THC)\n",
    "            E_hat = model(data)[data.E_mask][:,0].reshape(E_THC.shape)\n",
    "            E_pred = E_THC + lamb * E_hat\n",
    "            \n",
    "            E_true = data.con.E[0] # first term means the J term\n",
    "            E_true = torch.from_numpy(E_true)\n",
    "            \n",
    "            loss = torch.norm(E_true - E_pred) / torch.norm(E_true) #Scale regularization\n",
    "                    \n",
    "            optimizer.zero_grad()\n",
    "            loss.backward()\n",
    "            \n",
    "            \n",
    "            optimizer.step()\n",
    "                        \n",
    "            batch_losses.append(loss.item())\n",
    "\n",
    "        batch_loss = np.mean(np.array(batch_losses))\n",
    "        losses.append(batch_loss)\n",
    "        if verbose:\n",
    "            print(\"timestep: {}, loss: {:e}\".format(i, batch_loss))\n",
    "    \n",
    "    model.eval()\n",
    "    return losses"
   ]
  },
  {
   "cell_type": "code",
   "execution_count": null,
   "metadata": {},
   "outputs": [],
   "source": [
    "vertex_dim = dataset[0].x.shape[1]\n",
    "edge_dim = dataset[0].edge_attr.shape[1]\n",
    "hidden_dim = 20\n",
    "model = THCNet(vertex_dim, edge_dim, hidden_dim).double()\n",
    "\n",
    "lr = 0.001\n",
    "verbose = True\n",
    "lamb = 1e-1\n",
    "\n",
    "losses = train(model, dataset, iterations = 200, lr = lr, verbose = verbose, lamb = lamb)"
   ]
  },
  {
   "cell_type": "code",
   "execution_count": null,
   "metadata": {},
   "outputs": [],
   "source": []
  }
 ],
 "metadata": {
  "kernelspec": {
   "display_name": "Python [conda env:prime] *",
   "language": "python",
   "name": "conda-env-prime-py"
  },
  "language_info": {
   "codemirror_mode": {
    "name": "ipython",
    "version": 3
   },
   "file_extension": ".py",
   "mimetype": "text/x-python",
   "name": "python",
   "nbconvert_exporter": "python",
   "pygments_lexer": "ipython3",
   "version": "3.7.7"
  }
 },
 "nbformat": 4,
 "nbformat_minor": 4
}
