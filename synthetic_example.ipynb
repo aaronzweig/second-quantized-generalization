{
 "cells": [
  {
   "cell_type": "code",
   "execution_count": 1,
   "metadata": {},
   "outputs": [],
   "source": [
    "import numpy as np\n",
    "import torch\n",
    "import torch.nn as nn\n",
    "import torch.nn.functional as F\n",
    "\n",
    "import networkx as nx\n",
    "from scipy import sparse\n",
    "\n",
    "import torch_geometric.transforms as T\n",
    "from torch_geometric.nn import GCNConv, GATConv, GINConv, global_max_pool, GlobalAttention, GatedGraphConv\n",
    "from torch_geometric.data import Data, DataLoader\n",
    "from torch_geometric.utils import softmax\n",
    "from torch_geometric.utils.convert import from_scipy_sparse_matrix\n",
    "\n",
    "\n",
    "from model import GCNNet\n",
    "from preprocess import build_graph\n",
    "from train import train"
   ]
  },
  {
   "cell_type": "code",
   "execution_count": 2,
   "metadata": {},
   "outputs": [],
   "source": [
    "M = 2\n",
    "F = 3\n",
    "\n",
    "#M: total number of orbitals\n",
    "#N: total number of particles\n",
    "#F: feature vector length\n",
    "\n",
    "#A is potential matrix: M x M\n",
    "#U is coulumb 4-tensor: M x M x M x M\n",
    "#X is additional orbital feature matrix: M x F\n",
    "#Y is additional pairwise orbital feature matrix: M x M x F\n",
    "\n",
    "#E is ground state energy\n",
    "\n",
    "data_list = []\n",
    "\n",
    "for i in range(4):\n",
    "    A = np.random.normal(size = (M, M))\n",
    "    U = np.random.normal(size = (M, M, M, M))\n",
    "    X = np.random.normal(size = (M, F))\n",
    "    Y = np.random.normal(size = (M, M, F))\n",
    "    \n",
    "    E = np.random.random()\n",
    "\n",
    "    W, Z = build_graph(A, U, X, Y)\n",
    "    Z = torch.from_numpy(Z)\n",
    "    edge_index, edge_attr = from_scipy_sparse_matrix(sparse.coo_matrix(W))    \n",
    "    data = Data(x = Z, edge_index = edge_index, edge_attr = edge_attr, y = E)\n",
    "    data_list.append(data)\n",
    "\n",
    "loader = DataLoader(data_list, batch_size = 2)"
   ]
  },
  {
   "cell_type": "code",
   "execution_count": 4,
   "metadata": {},
   "outputs": [
    {
     "name": "stdout",
     "output_type": "stream",
     "text": [
      "[0.7360441742005637, 0.059490672328416073, 0.00447561669870963, 0.0019456016415455865, 4.339877145534711e-06, 0.00012032453872655869, 8.86710555931685e-05, 7.903137841783182e-05, 7.063503954721852e-05, 1.720161186137826e-05, 1.722462833661854e-09, 1.844370158447662e-06, 7.420332971089333e-07, 5.146963044286444e-09, 7.792297246950968e-08, 1.5575514296511242e-08, 4.927389575884218e-09, 3.88690576838448e-09, 4.1968665599806415e-10, 6.058246503860758e-10]\n"
     ]
    }
   ],
   "source": [
    "model = GCNNet(input_dim = F, hidden_dim = 30).double()\n",
    "losses = train(model, loader, iterations = 100)\n",
    "print(losses[::10])"
   ]
  },
  {
   "cell_type": "code",
   "execution_count": null,
   "metadata": {},
   "outputs": [],
   "source": []
  }
 ],
 "metadata": {
  "kernelspec": {
   "display_name": "Python [conda env:prime] *",
   "language": "python",
   "name": "conda-env-prime-py"
  },
  "language_info": {
   "codemirror_mode": {
    "name": "ipython",
    "version": 3
   },
   "file_extension": ".py",
   "mimetype": "text/x-python",
   "name": "python",
   "nbconvert_exporter": "python",
   "pygments_lexer": "ipython3",
   "version": "3.7.7"
  }
 },
 "nbformat": 4,
 "nbformat_minor": 4
}
