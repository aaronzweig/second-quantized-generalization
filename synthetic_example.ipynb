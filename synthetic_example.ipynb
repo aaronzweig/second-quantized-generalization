{
 "cells": [
  {
   "cell_type": "code",
   "execution_count": null,
   "metadata": {},
   "outputs": [],
   "source": [
    "import numpy as np\n",
    "import torch\n",
    "import torch.nn as nn\n",
    "import torch.nn.functional as F\n",
    "\n",
    "import networkx as nx\n",
    "from scipy import sparse\n",
    "\n",
    "import torch_geometric.transforms as T\n",
    "from torch_geometric.nn import GCNConv, GATConv, GINConv, global_max_pool, GlobalAttention, GatedGraphConv\n",
    "from torch_geometric.data import Data, DataLoader\n",
    "from torch_geometric.utils import softmax\n",
    "from torch_geometric.utils.convert import from_scipy_sparse_matrix\n",
    "\n",
    "from pyscf import gto, scf, tools, ao2mo\n",
    "\n",
    "\n",
    "import model\n",
    "import train\n",
    "from model import SecondNet, SimpleNet\n",
    "from preprocess import build_graph, build_qm7\n",
    "from train import train, test\n",
    "from hf import get_data"
   ]
  },
  {
   "cell_type": "code",
   "execution_count": null,
   "metadata": {},
   "outputs": [],
   "source": [
    "mols = build_qm7('sto-3g')\n",
    "#Omit first molecule, outlier geometry\n",
    "mols = mols[100:101]"
   ]
  },
  {
   "cell_type": "code",
   "execution_count": null,
   "metadata": {},
   "outputs": [],
   "source": [
    "#TODO: Encode number of electrons explicitly\n",
    "#TODO: Encode HF features?\n",
    "#TODO: Encode the \"flavor\" of the orbital basis as features as well\n",
    "\n",
    "#TODO: indicate which orbital is first and second in the pair vertices?  This breaks the symmetry,\n",
    "#but we might want this anyway if we want to particularly understand one of the orbitals in the pair\n",
    "#TODO: indicators should be separate features not integer values, stop being lazy\n",
    "#TODO: ACTUALLY USE GCN MODEL\n",
    "#TODO: Fix edge features between single and double, currently those are all zero and graph is disconnected!!!"
   ]
  },
  {
   "cell_type": "code",
   "execution_count": null,
   "metadata": {},
   "outputs": [],
   "source": [
    "#M: Number of orbitals\n",
    "#N: Number of electrons\n",
    "#F: feature vector length\n",
    "\n",
    "#A is potential matrix: M x M\n",
    "#U is coulumb 4-tensor: M x M x M x M\n",
    "#X is additional orbital feature matrix: M x F_1\n",
    "#Y is additional pairwise orbital feature matrix: M x M x F_2\n",
    "\n",
    "#E is ground state energy\n",
    "\n",
    "dataset = []\n",
    "\n",
    "for mol in mols:\n",
    "    A, U, X, Y, E = get_data(mol, \"AO\", predict_correlation = False)\n",
    "    \n",
    "    ####COMPLETE HACK\n",
    "#     E /= 10.\n",
    "#     np.fill_diagonal(Y[:,:,0], np.diagonal(Y[:,:,0]) / 10.)\n",
    "#     np.fill_diagonal(Y[:,:,1], np.diagonal(Y[:,:,1]) / 10.)\n",
    "    \n",
    "    ####\n",
    "    \n",
    "    M = A.shape[0]\n",
    "    X = np.zeros((M, 1)) #Currently no orbital features\n",
    "                \n",
    "    x, edge_index, edge_attr = build_graph(A, U, X, Y)\n",
    "    \n",
    "    \n",
    "#     print(\"True energy:\\t\\t {}\".format(E))\n",
    "#     print(\"Energy via Trace:\\t {}\".format(np.sum(Y[:,:,0] * Y[:,:,1])))\n",
    "#     print(\"Energy via features:\\t {}\"\n",
    "#           .format(torch.sum(x[:,1] * x[:,2] * (2 - x[:,5])).item()))\n",
    "#     print()\n",
    "\n",
    "        \n",
    "    data = Data(x = x, edge_index = edge_index, edge_attr = edge_attr, y = E)\n",
    "    dataset.append(data)"
   ]
  },
  {
   "cell_type": "code",
   "execution_count": null,
   "metadata": {},
   "outputs": [],
   "source": [
    "import random\n",
    "random.shuffle(dataset)\n",
    "\n",
    "split = int(0.8 * len(dataset))\n",
    "train_loader = DataLoader(dataset[:split], batch_size = 1)\n",
    "test_loader = DataLoader(dataset[split:], batch_size = 1)"
   ]
  },
  {
   "cell_type": "code",
   "execution_count": null,
   "metadata": {},
   "outputs": [],
   "source": [
    "for data in dataset:\n",
    "    print (data.x.shape, data.edge_attr.shape)"
   ]
  },
  {
   "cell_type": "code",
   "execution_count": null,
   "metadata": {},
   "outputs": [],
   "source": [
    "for batch in train_loader:\n",
    "    print(batch.x.shape)\n",
    "    print(batch.edge_index.shape)\n",
    "    print(batch.edge_attr.shape)\n",
    "    break"
   ]
  },
  {
   "cell_type": "code",
   "execution_count": null,
   "metadata": {},
   "outputs": [],
   "source": [
    "import importlib\n",
    "importlib.reload(model)\n",
    "from model import SecondNet, SimpleNet\n"
   ]
  },
  {
   "cell_type": "code",
   "execution_count": null,
   "metadata": {},
   "outputs": [],
   "source": [
    "vertex_dim = dataset[0].x.shape[1]\n",
    "edge_dim = dataset[0].edge_attr.shape[1]\n",
    "hidden_dim = 20\n",
    "\n",
    "train_criterion = nn.MSELoss()\n",
    "test_criterion = nn.L1Loss()\n",
    "\n",
    "\n",
    "np.set_printoptions(precision=3, suppress=True)"
   ]
  },
  {
   "cell_type": "code",
   "execution_count": null,
   "metadata": {},
   "outputs": [],
   "source": [
    "# net = SecondNet(vertex_dim, edge_dim, hidden_dim).double()\n",
    "net = SimpleNet(vertex_dim, edge_dim, hidden_dim, p = 0.0).double()\n",
    "\n",
    "\n",
    "losses = train(net, train_loader, lr = 0.002, iterations = 2000, criterion = train_criterion, verbose = True)\n",
    "print(losses[::10])\n",
    "\n",
    "loss = test(net, test_loader, test_criterion)\n",
    "print(loss)\n"
   ]
  },
  {
   "cell_type": "code",
   "execution_count": null,
   "metadata": {},
   "outputs": [],
   "source": [
    "for data in test_loader:\n",
    "    output = net(data)\n",
    "    loss = test_criterion(output, data.y.double())\n",
    "    print(output)\n",
    "    print(data.y.double())\n",
    "    break"
   ]
  },
  {
   "cell_type": "code",
   "execution_count": null,
   "metadata": {},
   "outputs": [],
   "source": []
  }
 ],
 "metadata": {
  "kernelspec": {
   "display_name": "Python [conda env:prime] *",
   "language": "python",
   "name": "conda-env-prime-py"
  },
  "language_info": {
   "codemirror_mode": {
    "name": "ipython",
    "version": 3
   },
   "file_extension": ".py",
   "mimetype": "text/x-python",
   "name": "python",
   "nbconvert_exporter": "python",
   "pygments_lexer": "ipython3",
   "version": "3.7.7"
  }
 },
 "nbformat": 4,
 "nbformat_minor": 4
}
