{
 "cells": [
  {
   "cell_type": "code",
   "execution_count": 1,
   "metadata": {},
   "outputs": [
    {
     "name": "stderr",
     "output_type": "stream",
     "text": [
      "Numpy 1.16 has memory leak bug  https://github.com/numpy/numpy/issues/13808\n",
      "It is recommended to downgrade to numpy 1.15 or older\n"
     ]
    }
   ],
   "source": [
    "import numpy as np\n",
    "import torch\n",
    "import torch.nn as nn\n",
    "import torch.nn.functional as F\n",
    "\n",
    "import networkx as nx\n",
    "from scipy import sparse\n",
    "\n",
    "import torch_geometric.transforms as T\n",
    "from torch_geometric.nn import GCNConv, GATConv, GINConv, global_max_pool, GlobalAttention, GatedGraphConv\n",
    "from torch_geometric.data import Data, DataLoader\n",
    "from torch_geometric.utils import softmax\n",
    "from torch_geometric.utils.convert import from_scipy_sparse_matrix\n",
    "\n",
    "from pyscf import gto, scf, tools, ao2mo\n",
    "\n",
    "\n",
    "import model\n",
    "import train\n",
    "from model import SecondNet, SimpleNet\n",
    "from preprocess import build_graph, build_qm7\n",
    "from train import train, test\n",
    "from hf import get_data, save_data, load_data"
   ]
  },
  {
   "cell_type": "code",
   "execution_count": 2,
   "metadata": {},
   "outputs": [],
   "source": [
    "mols = build_qm7('sto-3g')\n",
    "#Omit first molecule, outlier geometry\n",
    "mols = mols[:20]\n",
    "filename = \"sto33\""
   ]
  },
  {
   "cell_type": "code",
   "execution_count": 3,
   "metadata": {},
   "outputs": [
    {
     "name": "stderr",
     "output_type": "stream",
     "text": [
      "/anaconda3/envs/prime/lib/python3.7/site-packages/pyscf/scf/chkfile.py:31: H5pyDeprecationWarning: The default file mode will change to 'r' (read-only) in h5py 3.0. To suppress this warning, pass the mode you need to h5py.File(), or set the global default h5.get_config().default_file_mode, or set the environment variable H5PY_DEFAULT_READONLY=1. Available modes are: 'r', 'r+', 'w', 'w-'/'x', 'a'. See the docs for details.\n",
      "  with h5py.File(chkfile) as fh5:\n",
      "/anaconda3/envs/prime/lib/python3.7/site-packages/pyscf/lib/misc.py:874: H5pyDeprecationWarning: The default file mode will change to 'r' (read-only) in h5py 3.0. To suppress this warning, pass the mode you need to h5py.File(), or set the global default h5.get_config().default_file_mode, or set the environment variable H5PY_DEFAULT_READONLY=1. Available modes are: 'r', 'r+', 'w', 'w-'/'x', 'a'. See the docs for details.\n",
      "  h5py.File.__init__(self, filename, *args, **kwargs)\n"
     ]
    }
   ],
   "source": [
    "#TODO: Encode number of electrons explicitly\n",
    "#TODO: Encode HF features?\n",
    "#TODO: Encode the \"flavor\" of the orbital basis as features as well\n",
    "\n",
    "save_data(mols, filename, force = True)\n",
    "mol_data = load_data(filename, 'MO')[:10]"
   ]
  },
  {
   "cell_type": "code",
   "execution_count": 4,
   "metadata": {},
   "outputs": [],
   "source": [
    "#M: Number of orbitals\n",
    "#N: Number of electrons\n",
    "#F: feature vector length\n",
    "\n",
    "#A is potential matrix: M x M\n",
    "#U is coulumb 4-tensor: M x M x M x M\n",
    "#X is additional orbital feature matrix: M x F_1\n",
    "#Y is additional pairwise orbital feature matrix: M x M x F_2\n",
    "\n",
    "#E is ground state energy\n",
    "dataset = []\n",
    "for mol in mol_data:\n",
    "    \n",
    "    A, U, X, Y, P, E, mo_occ = mol\n",
    "                                \n",
    "    data = build_graph(A, U, X, Y, P, E, mo_occ, epsilon = 0.0)\n",
    "\n",
    "    dataset.append(data)"
   ]
  },
  {
   "cell_type": "code",
   "execution_count": 5,
   "metadata": {},
   "outputs": [],
   "source": [
    "import random\n",
    "random.shuffle(dataset)\n",
    "\n",
    "split = int(0.8 * len(dataset))\n",
    "train_loader = DataLoader(dataset[:split], batch_size = 2)\n",
    "test_loader = DataLoader(dataset[split:], batch_size = 2)"
   ]
  },
  {
   "cell_type": "code",
   "execution_count": 6,
   "metadata": {},
   "outputs": [],
   "source": [
    "import importlib\n",
    "importlib.reload(model)\n",
    "from model import SecondNet, SimpleNet\n"
   ]
  },
  {
   "cell_type": "code",
   "execution_count": 9,
   "metadata": {},
   "outputs": [],
   "source": [
    "vertex_dim = dataset[0].x.shape[1]\n",
    "edge_dim = dataset[0].edge_attr.shape[1]\n",
    "hidden_dim = 20\n",
    "\n",
    "train_criterion = nn.MSELoss()\n",
    "test_criterion = nn.L1Loss()\n",
    "\n",
    "\n",
    "np.set_printoptions(precision=8, suppress=True)"
   ]
  },
  {
   "cell_type": "code",
   "execution_count": 10,
   "metadata": {},
   "outputs": [
    {
     "name": "stdout",
     "output_type": "stream",
     "text": [
      "timestep: 0, loss: [0.00459341 1.31204173]\n",
      "timestep: 1, loss: [0.00209961 0.18992052]\n",
      "timestep: 2, loss: [0.00127826 0.12187536]\n",
      "timestep: 3, loss: [0.00060934 0.16284255]\n",
      "timestep: 4, loss: [0.00057647 0.05444107]\n",
      "timestep: 5, loss: [0.00042228 0.03941029]\n",
      "timestep: 6, loss: [0.00026837 0.04912176]\n",
      "timestep: 7, loss: [0.00028097 0.04882609]\n",
      "timestep: 8, loss: [0.00022702 0.03529826]\n",
      "timestep: 9, loss: [0.00021101 0.03343455]\n",
      "timestep: 10, loss: [0.00019217 0.04213438]\n",
      "timestep: 11, loss: [0.00016708 0.04108452]\n",
      "timestep: 12, loss: [0.00015271 0.02956089]\n",
      "timestep: 13, loss: [0.00015091 0.02690331]\n",
      "timestep: 14, loss: [0.00013573 0.02964537]\n",
      "timestep: 15, loss: [0.00012565 0.02876005]\n",
      "timestep: 16, loss: [0.00012112 0.02552007]\n",
      "timestep: 17, loss: [0.00011392 0.02469886]\n",
      "timestep: 18, loss: [0.00010719 0.02363961]\n",
      "timestep: 19, loss: [0.00010135 0.02165481]\n",
      "timestep: 20, loss: [0.00009633 0.02107371]\n",
      "timestep: 21, loss: [0.00009004 0.02077105]\n",
      "timestep: 22, loss: [0.00008414 0.01909219]\n",
      "timestep: 23, loss: [0.00007971 0.01765609]\n",
      "timestep: 24, loss: [0.00007467 0.01702262]\n",
      "timestep: 25, loss: [0.00006949 0.0160404 ]\n",
      "timestep: 26, loss: [0.00006342 0.01424177]\n",
      "timestep: 27, loss: [0.00005871 0.0126611 ]\n",
      "timestep: 28, loss: [0.0000557 0.0120303]\n",
      "timestep: 29, loss: [0.00005247 0.01137658]\n",
      "timestep: 30, loss: [0.00004968 0.01074295]\n",
      "timestep: 31, loss: [0.00004682 0.01018966]\n",
      "timestep: 32, loss: [0.00004431 0.00950065]\n",
      "timestep: 33, loss: [0.0000421  0.00897854]\n",
      "timestep: 34, loss: [0.00003977 0.00857008]\n",
      "timestep: 35, loss: [0.0000376  0.00803999]\n",
      "timestep: 36, loss: [0.00003564 0.00754433]\n",
      "timestep: 37, loss: [0.0000338  0.00712276]\n",
      "timestep: 38, loss: [0.00003207 0.00670667]\n",
      "timestep: 39, loss: [0.00003046 0.00633625]\n",
      "timestep: 40, loss: [0.00002891 0.00596199]\n",
      "timestep: 41, loss: [0.00002749 0.00559353]\n",
      "timestep: 42, loss: [0.00002613 0.00525463]\n",
      "timestep: 43, loss: [0.00002484 0.00495808]\n",
      "timestep: 44, loss: [0.0000236  0.00464873]\n",
      "timestep: 45, loss: [0.00002249 0.0043397 ]\n",
      "timestep: 46, loss: [0.00002141 0.00409814]\n",
      "timestep: 47, loss: [0.00002037 0.00383636]\n",
      "timestep: 48, loss: [0.00001944 0.00358297]\n",
      "timestep: 49, loss: [0.00001853 0.00336493]\n",
      "timestep: 50, loss: [0.0000177  0.00315143]\n",
      "timestep: 51, loss: [0.00001691 0.00295618]\n",
      "timestep: 52, loss: [0.00001618 0.0027596 ]\n",
      "timestep: 53, loss: [0.0000155  0.00259277]\n",
      "timestep: 54, loss: [0.00001484 0.00242582]\n",
      "timestep: 55, loss: [0.00001425 0.00226848]\n",
      "timestep: 56, loss: [0.00001369 0.00212709]\n",
      "timestep: 57, loss: [0.00001317 0.00198834]\n",
      "timestep: 58, loss: [0.00001269 0.00186239]\n",
      "timestep: 59, loss: [0.00001224 0.00174723]\n",
      "timestep: 60, loss: [0.00001183 0.0016336 ]\n",
      "timestep: 61, loss: [0.00001145 0.00153221]\n",
      "timestep: 62, loss: [0.00001109 0.00143879]\n",
      "timestep: 63, loss: [0.00001077 0.00134626]\n",
      "timestep: 64, loss: [0.00001047 0.00126357]\n",
      "timestep: 65, loss: [0.00001019 0.00118688]\n",
      "timestep: 66, loss: [0.00000993 0.0011175 ]\n",
      "timestep: 67, loss: [0.00000969 0.00105144]\n",
      "timestep: 68, loss: [0.00000947 0.00098782]\n",
      "timestep: 69, loss: [0.00000927 0.00092954]\n",
      "timestep: 70, loss: [0.00000908 0.00087559]\n",
      "timestep: 71, loss: [0.00000891 0.00082703]\n",
      "timestep: 72, loss: [0.00000875 0.0007802 ]\n",
      "timestep: 73, loss: [0.0000086  0.00073739]\n",
      "timestep: 74, loss: [0.00000846 0.00069592]\n",
      "timestep: 75, loss: [0.00000833 0.00065844]\n",
      "timestep: 76, loss: [0.0000082  0.00062287]\n",
      "timestep: 77, loss: [0.00000809 0.00059035]\n",
      "timestep: 78, loss: [0.00000798 0.00055952]\n",
      "timestep: 79, loss: [0.00000788 0.00053115]\n",
      "timestep: 80, loss: [0.00000779 0.00050448]\n",
      "timestep: 81, loss: [0.0000077  0.00047837]\n",
      "timestep: 82, loss: [0.00000762 0.00045408]\n",
      "timestep: 83, loss: [0.00000754 0.00043148]\n",
      "timestep: 84, loss: [0.00000747 0.00041052]\n",
      "timestep: 85, loss: [0.0000074  0.00039111]\n",
      "timestep: 86, loss: [0.00000733 0.00037295]\n",
      "timestep: 87, loss: [0.00000727 0.00035573]\n",
      "timestep: 88, loss: [0.00000721 0.00033972]\n",
      "timestep: 89, loss: [0.00000716 0.00032508]\n",
      "timestep: 90, loss: [0.0000071  0.00031099]\n",
      "timestep: 91, loss: [0.00000705 0.00029765]\n",
      "timestep: 92, loss: [0.000007   0.00028529]\n",
      "timestep: 93, loss: [0.00000695 0.00027317]\n",
      "timestep: 94, loss: [0.00000691 0.00026169]\n",
      "timestep: 95, loss: [0.00000687 0.00025122]\n",
      "timestep: 96, loss: [0.00000682 0.00024098]\n",
      "timestep: 97, loss: [0.00000678 0.0002316 ]\n",
      "timestep: 98, loss: [0.00000675 0.00022224]\n",
      "timestep: 99, loss: [0.00000671 0.00021374]\n",
      "[array([0.00459341, 1.31204173]), array([0.00019217, 0.04213438]), array([0.00009633, 0.02107371]), array([0.00004968, 0.01074295]), array([0.00002891, 0.00596199]), array([0.0000177 , 0.00315143]), array([0.00001183, 0.0016336 ]), array([0.00000908, 0.00087559]), array([0.00000779, 0.00050448]), array([0.0000071 , 0.00031099])]\n",
      "0.0071367422252764995\n"
     ]
    }
   ],
   "source": [
    "net = SecondNet(vertex_dim, edge_dim, hidden_dim, p = 0.0).double()\n",
    "# net = SimpleNet(vertex_dim, edge_dim, hidden_dim, p = 0.0).double()\n",
    "\n",
    "\n",
    "losses = train(net, train_loader, lr = 0.002, iterations = 100, criterion = train_criterion, verbose = True)\n",
    "print(losses[::10])\n",
    "\n",
    "loss = test(net, test_loader, test_criterion)\n",
    "print(loss)\n"
   ]
  },
  {
   "cell_type": "code",
   "execution_count": null,
   "metadata": {},
   "outputs": [],
   "source": []
  }
 ],
 "metadata": {
  "kernelspec": {
   "display_name": "Python [conda env:prime] *",
   "language": "python",
   "name": "conda-env-prime-py"
  },
  "language_info": {
   "codemirror_mode": {
    "name": "ipython",
    "version": 3
   },
   "file_extension": ".py",
   "mimetype": "text/x-python",
   "name": "python",
   "nbconvert_exporter": "python",
   "pygments_lexer": "ipython3",
   "version": "3.7.7"
  }
 },
 "nbformat": 4,
 "nbformat_minor": 4
}
